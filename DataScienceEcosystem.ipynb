{
 "cells": [
  {
   "cell_type": "markdown",
   "metadata": {},
   "source": [
    "# Data Science Tools and Ecosystem"
   ]
  },
  {
   "cell_type": "markdown",
   "metadata": {},
   "source": [
    "In this notebook, Data Science Tools and Ecosystem are summarized.\n"
   ]
  },
  {
   "cell_type": "markdown",
   "metadata": {},
   "source": [
    "\n",
    "**Objectives:**\n",
    "- popular languages for Data Science\n",
    "- Libraries and Frameworks\n",
    "- Data Science Tools\n"
   ]
  },
  {
   "cell_type": "markdown",
   "metadata": {},
   "source": [
    "Some of the popular languages that Data Scientists use are:\n",
    "1. Python\n",
    "2. R\n",
    "3. SQL\n",
    "4. Julia\n",
    "5. Scala\n"
   ]
  },
  {
   "cell_type": "markdown",
   "metadata": {},
   "source": [
    " Some of the commonly used libraries used by Data Scientists include:\n",
    "\n",
    "1. **NumPy**: A library for numerical computing in Python. It provides support for large, multi-dimensional arrays and matrices, along with a collection of mathematical functions to operate on these arrays. NumPy is widely used in data science for efficient numerical computations.\n",
    "\n",
    "2. **Pandas**: A library for data manipulation and analysis in Python. It provides data structures like DataFrames and Series, which are designed to handle tabular data and perform various data operations such as filtering, grouping, and aggregation. Pandas is commonly used for data cleaning, preprocessing, and exploratory data analysis.\n",
    "\n",
    "3. **Matplotlib**: A library for creating static, interactive, and animated visualizations in Python. It provides a wide range of plotting functions, including line plots, scatter plots, bar plots, histograms, and more. Matplotlib is used for data visualization, including creating plots to analyze trends, patterns, and relationships in the data.\n",
    "4. **Scikit-learn**: A library for machine learning in Python. It provides tools for data preprocessing, model selection, and evaluation. It includes various machine learning algorithms, such as linear regression, decision trees, random forests, and support vector machines. Scikit-learn is used for building predictive models, performing feature engineering, and evaluating model performance.\n",
    "\n",
    "5. **TensorFlow**: A library for machine learning and deep learning in Python. It provides a high-level API for building and training neural networks. TensorFlow is widely used for tasks such as image recognition, natural language processing, and recommendation systems. It offers both low-level and high-level APIs, allowing developers to create complex neural network architectures.\n",
    "\n",
    "These are just a few examples of the many libraries used by data scientists. Each library has its own set of functionalities and is suitable for different tasks and domains in data science.\n"
   ]
  },
  {
   "cell_type": "markdown",
   "metadata": {},
   "source": [
    " | Data Science Tools |\n",
    "|--------------------|\n",
    "| Jupyter Notebook   |\n",
    "| RStudio            |\n",
    "| VS Code            |\n",
    "\n"
   ]
  },
  {
   "cell_type": "markdown",
   "metadata": {},
   "source": [
    "### Below are a few examples of evaluating arithmetic expressions in Python."
   ]
  },
  {
   "cell_type": "code",
   "execution_count": 5,
   "metadata": {},
   "outputs": [
    {
     "data": {
      "text/plain": [
       "17"
      ]
     },
     "execution_count": 5,
     "metadata": {},
     "output_type": "execute_result"
    }
   ],
   "source": [
    "# This a simple arithmetic expression to mutiply then add integers.\n",
    "(3*4)+5"
   ]
  },
  {
   "cell_type": "code",
   "execution_count": 7,
   "metadata": {},
   "outputs": [
    {
     "data": {
      "text/plain": [
       "3.3333333333333335"
      ]
     },
     "execution_count": 7,
     "metadata": {},
     "output_type": "execute_result"
    }
   ],
   "source": [
    "# This will convert 200 minutes to hours by diving by 60.\n",
    "200/60"
   ]
  },
  {
   "cell_type": "markdown",
   "metadata": {},
   "source": [
    "\n",
    "## Author\n",
    "ZHU LEI\n"
   ]
  }
 ],
 "metadata": {
  "kernelspec": {
   "display_name": ".venv",
   "language": "python",
   "name": "python3"
  },
  "language_info": {
   "codemirror_mode": {
    "name": "ipython",
    "version": 3
   },
   "file_extension": ".py",
   "mimetype": "text/x-python",
   "name": "python",
   "nbconvert_exporter": "python",
   "pygments_lexer": "ipython3",
   "version": "3.12.3"
  }
 },
 "nbformat": 4,
 "nbformat_minor": 2
}
